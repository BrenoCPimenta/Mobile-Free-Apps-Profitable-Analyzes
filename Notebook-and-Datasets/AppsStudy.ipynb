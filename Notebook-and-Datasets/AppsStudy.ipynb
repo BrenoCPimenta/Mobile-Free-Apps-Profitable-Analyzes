{
 "cells": [
  {
   "cell_type": "markdown",
   "metadata": {},
   "source": [
    "<img src=\"http://www.internetsegura.pt/sites/default/files/1065.jpg\" alt=\"Drawing\" style=\"width:550px;\"/>"
   ]
  },
  {
   "cell_type": "markdown",
   "metadata": {},
   "source": [
    "# Mobile Free Apps Profitable Analyzes"
   ]
  },
  {
   "cell_type": "markdown",
   "metadata": {},
   "source": [
    " This study is meant to help companies who develop free apps in GooglePlayStore and AppleAppStore.\n",
    " \n",
    " Since the revenue of those companies is highly influenced by the number of people using their apps, the aim is to determine the kinds of    **English - Free - Apps**    that are likely to attract more users."
   ]
  },
  {
   "cell_type": "markdown",
   "metadata": {},
   "source": [
    "#### DataSets:  \n",
    " * [GooglePlayStore](https://www.kaggle.com/lava18/google-play-store-apps/home)\n",
    " * [AppStore](https://www.kaggle.com/ramamet4/app-store-apple-data-set-10k-apps/home)"
   ]
  },
  {
   "cell_type": "markdown",
   "metadata": {},
   "source": [
    "## <img src=\"http://pngimages.net/sites/default/files/file-png-image-11230.png\" alt=\"Drawing\" style=\"width:40px; float:left\"/>   &ensp; Opening Files"
   ]
  },
  {
   "cell_type": "code",
   "execution_count": 1,
   "metadata": {},
   "outputs": [],
   "source": [
    "from csv import reader\n",
    "import matplotlib.pyplot as plt\n",
    "import numpy as np"
   ]
  },
  {
   "cell_type": "code",
   "execution_count": 2,
   "metadata": {},
   "outputs": [],
   "source": [
    "#____Basic CSV Open Function____\n",
    "def csv_to_list(file_name, encode=None):\n",
    "    if encode ==\"utf8\":\n",
    "        csv_file = open(file_name, encoding=\"utf8\")\n",
    "        reade_file = reader(csv_file)\n",
    "        new_list = list(reade_file)\n",
    "        list_header = new_list[0]\n",
    "        list_body = new_list[1:]\n",
    "        return list_header, list_body\n",
    "    elif encode ==\"Latin-1\":\n",
    "        csv_file = open(file_name, encoding=\"latin-1\")\n",
    "        reade_file = reader(csv_file)\n",
    "        new_list = list(reade_file)\n",
    "        list_header = new_list[0]\n",
    "        list_body = new_list[1:]\n",
    "        return list_header, list_body\n",
    "    else:\n",
    "        csv_file = open(file_name)\n",
    "        reade_file = reader(csv_file)\n",
    "        new_list = list(reade_file)\n",
    "        list_header = new_list[0]\n",
    "        list_body = new_list[1:]\n",
    "        return list_header, list_body        \n",
    "    "
   ]
  },
  {
   "cell_type": "code",
   "execution_count": 3,
   "metadata": {},
   "outputs": [
    {
     "name": "stdout",
     "output_type": "stream",
     "text": [
      "AppStore dataset size:  7197\n",
      "GooglePlay dataset size:  10841\n"
     ]
    }
   ],
   "source": [
    "#____Opening AppleStore Dataset____\n",
    "appstore = 'AppleStore.csv'\n",
    "encode = \"utf8\"\n",
    "apple_header, apple_dataset = csv_to_list(appstore, encode)\n",
    "print(\"AppStore dataset size: \", len(apple_dataset))\n",
    "\n",
    "#____Opening GoogleAppStore Dataset____\n",
    "iosStore = 'googleplaystore.csv'\n",
    "encode = \"utf8\"\n",
    "ios_header, ios_dataset = csv_to_list(iosStore, encode)\n",
    "print(\"GooglePlay dataset size: \", len(ios_dataset))"
   ]
  },
  {
   "cell_type": "markdown",
   "metadata": {},
   "source": [
    "---"
   ]
  },
  {
   "cell_type": "markdown",
   "metadata": {},
   "source": [
    "## <img src=\"https://www.invensis.net/blog/wp-content/uploads/2016/04/5-Best-Practices-in-Accounts-Payable-invensis1.png\" alt=\"Drawing\" style=\"width:50px; float:left\"/> Data Cleaning "
   ]
  },
  {
   "cell_type": "markdown",
   "metadata": {},
   "source": [
    "### One-time error\n"
   ]
  },
  {
   "cell_type": "markdown",
   "metadata": {},
   "source": [
    "This error was pointed in a [discussion](https://www.kaggle.com/lava18/google-play-store-apps/discussion/66015) inside the dataset origin website."
   ]
  },
  {
   "cell_type": "code",
   "execution_count": 4,
   "metadata": {},
   "outputs": [
    {
     "name": "stdout",
     "output_type": "stream",
     "text": [
      "['Life Made WI-Fi Touchscreen Photo Frame', '1.9', '19', '3.0M', '1,000+', 'Free', '0', 'Everyone', '', 'February 11, 2018', '1.0.19', '4.0 and up']\n"
     ]
    }
   ],
   "source": [
    "print(ios_dataset[10472])"
   ]
  },
  {
   "cell_type": "code",
   "execution_count": 5,
   "metadata": {},
   "outputs": [
    {
     "name": "stdout",
     "output_type": "stream",
     "text": [
      "Test:\n",
      " ['osmino Wi-Fi: free WiFi', 'TOOLS', '4.2', '134203', '4.1M', '10,000,000+', 'Free', '0', 'Everyone', 'Tools', 'August 7, 2018', '6.06.14', '4.4 and up']\n"
     ]
    }
   ],
   "source": [
    "# this entry has missing 'Rating' \n",
    "del ios_dataset[10472]\n",
    "print('Test:\\n', ios_dataset[10472])"
   ]
  },
  {
   "cell_type": "markdown",
   "metadata": {},
   "source": [
    "### Duplicated data \n",
    "Only on GooglePlayStore DataSet"
   ]
  },
  {
   "cell_type": "markdown",
   "metadata": {},
   "source": [
    "**Locating by duplicated name**"
   ]
  },
  {
   "cell_type": "code",
   "execution_count": 6,
   "metadata": {},
   "outputs": [
    {
     "name": "stdout",
     "output_type": "stream",
     "text": [
      "There is  1181 duplicated apps.\n"
     ]
    }
   ],
   "source": [
    "name_list = []\n",
    "cnt = 0\n",
    "repeated_index_list = []\n",
    "\n",
    "for name in ios_dataset:\n",
    "    if name[0] in name_list:\n",
    "        repeated_index_list.append(cnt)\n",
    "    else:\n",
    "        name_list.append(name[0])\n",
    "    cnt+=1\n",
    "\n",
    "print('There is ', len(repeated_index_list), 'duplicated apps.')"
   ]
  },
  {
   "cell_type": "markdown",
   "metadata": {},
   "source": [
    "**Deleting**"
   ]
  },
  {
   "cell_type": "code",
   "execution_count": 7,
   "metadata": {},
   "outputs": [],
   "source": [
    "#___Changing the order of the repeated index, so we can delete without changing the others\n",
    "repeated_index_list.sort(key=int, reverse=True)\n",
    "\n",
    "for n in repeated_index_list:\n",
    "    del ios_dataset[n]"
   ]
  },
  {
   "cell_type": "markdown",
   "metadata": {},
   "source": [
    "### Non English Apps\n",
    "\n",
    "Since the analyzes must be made only on english apps, it's necessary to remove non english apps.\n",
    "   \n",
    "Criteria: Apps with names that contain non english characters (ASCII > 127) will be removed.\n",
    "An exception for '®', '™', '—' and '–', that are not in the range, but are frequently used in english apps."
   ]
  },
  {
   "cell_type": "markdown",
   "metadata": {},
   "source": [
    "* **GooglePlay DataSet**"
   ]
  },
  {
   "cell_type": "code",
   "execution_count": 8,
   "metadata": {},
   "outputs": [
    {
     "name": "stdout",
     "output_type": "stream",
     "text": [
      "Examples of apps tracedown:\n",
      "Zona Azul Digital Fácil SP CET - OFFICIAL São Paulo\n",
      "Wattpad 📖 Free Books\n",
      "Röhrich Werner Soundboard\n",
      "Truyện Vui Tý Quậy\n",
      "Comic Es - Shojo manga / love comics free of charge ♪ ♪\n",
      "漫咖 Comics - Manga,Novel and Stories\n",
      "\n",
      "Test: Applications not deleted: []\n"
     ]
    }
   ],
   "source": [
    "#___Locating___\n",
    "cnt = 0\n",
    "non_english_index = []\n",
    "\n",
    "for name in ios_dataset:\n",
    "    for character in name[0]:\n",
    "        if ord(character) > 127 and ord(character) != 8211 and ord(character) != 8482 and ord(character) != 174 and ord(character) != 8212:\n",
    "            non_english_index.append(cnt)\n",
    "            break\n",
    "    cnt+=1\n",
    "\n",
    "cnt = 0\n",
    "print('Examples of apps tracedown:')\n",
    "for n in non_english_index:\n",
    "    print(ios_dataset[n][0])\n",
    "    cnt+=1\n",
    "    if cnt>5:\n",
    "        break\n",
    "\n",
    "#___Deleting___\n",
    "non_english_index.sort(key=int,reverse=True)\n",
    "for index in non_english_index:\n",
    "    del ios_dataset[index]\n",
    "    \n",
    "#___Confirming___\n",
    "cnt = 0\n",
    "test_non_english_index = []\n",
    "\n",
    "for name in ios_dataset:\n",
    "    for character in name[0]:\n",
    "        if ord(character) > 127 and ord(character) != 8211 and ord(character) != 8482 and ord(character) != 174 and ord(character) != 8212:\n",
    "            test_non_english_index.append(cnt)\n",
    "            break\n",
    "    cnt+=1\n",
    "\n",
    "print('\\nTest: Applications not deleted:', test_non_english_index)\n"
   ]
  },
  {
   "cell_type": "markdown",
   "metadata": {},
   "source": [
    "* **AppStore DataSet**"
   ]
  },
  {
   "cell_type": "code",
   "execution_count": 9,
   "metadata": {},
   "outputs": [
    {
     "name": "stdout",
     "output_type": "stream",
     "text": [
      "Examples of apps tracedown:\n",
      "Chase Mobile℠\n",
      "大辞林\n",
      "新浪新闻-阅读最新时事热门头条资讯视频\n",
      "同花顺-炒股、股票\n",
      "20 Minutes.fr - l'actualité en continu\n",
      "Guess My Age  Math Magic\n",
      "\n",
      "Test: Applications not deleted: []\n"
     ]
    }
   ],
   "source": [
    "#___Locating___\n",
    "cnt = 0\n",
    "non_english_index = []\n",
    "\n",
    "for name in apple_dataset:\n",
    "    for character in name[2]:\n",
    "        if ord(character) > 127 and ord(character) != 8211 and ord(character) != 8482 and ord(character) != 174 and ord(character) != 8212:\n",
    "            non_english_index.append(cnt)\n",
    "            break\n",
    "    cnt+=1\n",
    "\n",
    "print('Examples of apps tracedown:')\n",
    "cnt = 0\n",
    "for n in non_english_index:\n",
    "    print(apple_dataset[n][2])\n",
    "    cnt+=1\n",
    "    if cnt>5:\n",
    "        break\n",
    "\n",
    "#___Deleting___\n",
    "non_english_index.sort(key=int,reverse=True)\n",
    "for index in non_english_index:\n",
    "    del apple_dataset[index]\n",
    "    \n",
    "#___Confirming___\n",
    "cnt = 0\n",
    "test_non_english_index = []\n",
    "\n",
    "for name in ios_dataset:\n",
    "    for character in name[2]:\n",
    "        if ord(character) > 127 and ord(character) != 8211 and ord(character) != 8482 and ord(character) != 174 and ord(character) != 8212:\n",
    "            test_non_english_index.append(cnt)\n",
    "            break\n",
    "    cnt+=1\n",
    "\n",
    "print('\\nTest: Applications not deleted:', test_non_english_index)\n",
    "\n",
    "\n"
   ]
  },
  {
   "cell_type": "markdown",
   "metadata": {},
   "source": [
    "### Isolating free apps"
   ]
  },
  {
   "cell_type": "code",
   "execution_count": 10,
   "metadata": {},
   "outputs": [],
   "source": [
    "apple_dataset_free = []\n",
    "for row in apple_dataset:\n",
    "    if row[5] == '0':\n",
    "        apple_dataset_free.append(row)\n",
    "\n",
    "ios_dataset_free = []\n",
    "for row in ios_dataset:\n",
    "    if row[6] == 'Free':\n",
    "        ios_dataset_free.append(row)\n",
    "        "
   ]
  },
  {
   "cell_type": "markdown",
   "metadata": {},
   "source": [
    "**DataSets sizes after cleaning**"
   ]
  },
  {
   "cell_type": "code",
   "execution_count": 11,
   "metadata": {},
   "outputs": [
    {
     "name": "stdout",
     "output_type": "stream",
     "text": [
      "AppleAppStore dataset size:  3121\n",
      "GooglePlay dataset size:  8647\n"
     ]
    }
   ],
   "source": [
    "print(\"AppleAppStore dataset size: \", len(apple_dataset_free))\n",
    "print(\"GooglePlay dataset size: \", len(ios_dataset_free))"
   ]
  },
  {
   "cell_type": "markdown",
   "metadata": {},
   "source": [
    "---"
   ]
  },
  {
   "cell_type": "markdown",
   "metadata": {},
   "source": [
    "## <img src=\"https://cdn2.iconfinder.com/data/icons/business-colored/48/23-512.png\" alt=\"Drawing\" style=\"width:30px; float:left\"/>   &ensp;    Data Analyzes"
   ]
  },
  {
   "cell_type": "markdown",
   "metadata": {},
   "source": [
    "### Frequency by genre in percentage"
   ]
  },
  {
   "cell_type": "markdown",
   "metadata": {},
   "source": [
    "**AppStore**"
   ]
  },
  {
   "cell_type": "code",
   "execution_count": 12,
   "metadata": {},
   "outputs": [
    {
     "name": "stdout",
     "output_type": "stream",
     "text": [
      "Percentage of apps in the store per genre in AppStore:\n",
      "\n",
      "('Games', 58.6)\n",
      "('Entertainment', 7.91)\n",
      "('Photo & Video', 5.06)\n",
      "('Education', 3.72)\n",
      "('Social Networking', 3.33)\n",
      "('Shopping', 2.5)\n",
      "('Utilities', 2.31)\n",
      "('Sports', 2.11)\n",
      "('Music', 2.05)\n",
      "('Health & Fitness', 2.02)\n",
      "('Productivity', 1.7)\n",
      "('Lifestyle', 1.54)\n",
      "('News', 1.28)\n",
      "('Travel', 1.19)\n",
      "('Finance', 1.09)\n",
      "('Weather', 0.87)\n",
      "('Food & Drink', 0.83)\n",
      "('Reference', 0.51)\n",
      "('Business', 0.48)\n",
      "('Book', 0.38)\n",
      "('Navigation', 0.19)\n",
      "('Medical', 0.19)\n",
      "('Catalogs', 0.13)\n"
     ]
    }
   ],
   "source": [
    "apple_genre_dictionarie = {}\n",
    "\n",
    "for genre in apple_dataset_free:\n",
    "    if genre[12] in apple_genre_dictionarie:\n",
    "        apple_genre_dictionarie[genre[12]] +=1\n",
    "    else:\n",
    "        apple_genre_dictionarie[genre[12]] = 1\n",
    "\n",
    "apple_dataset_free_size = len(apple_dataset_free)\n",
    "for key in apple_genre_dictionarie:\n",
    "    apple_genre_dictionarie[key] = round((apple_genre_dictionarie[key]/apple_dataset_free_size)*100, 2)\n",
    "\n",
    "print(\"Percentage of apps in the store per genre in AppStore:\\n\")\n",
    "sorted_by_value = sorted(apple_genre_dictionarie.items(), key=lambda kv: kv[1], reverse = True)\n",
    "\n",
    "for item in sorted_by_value:\n",
    "    print(item)\n"
   ]
  },
  {
   "cell_type": "markdown",
   "metadata": {},
   "source": [
    "**GooglePlayStore**"
   ]
  },
  {
   "cell_type": "code",
   "execution_count": 13,
   "metadata": {},
   "outputs": [
    {
     "name": "stdout",
     "output_type": "stream",
     "text": [
      "Percentage of apps in the store per genre in PlayStore:\n",
      "\n",
      "('FAMILY', 18.42)\n",
      "('GAME', 9.88)\n",
      "('TOOLS', 8.5)\n",
      "('BUSINESS', 4.67)\n",
      "('PRODUCTIVITY', 3.94)\n",
      "('LIFESTYLE', 3.9)\n",
      "('FINANCE', 3.7)\n",
      "('MEDICAL', 3.6)\n",
      "('PERSONALIZATION', 3.33)\n",
      "('COMMUNICATION', 3.25)\n",
      "('SPORTS', 3.21)\n",
      "('HEALTH_AND_FITNESS', 3.1)\n",
      "('PHOTOGRAPHY', 3.0)\n",
      "('NEWS_AND_MAGAZINES', 2.75)\n",
      "('SOCIAL', 2.64)\n",
      "('TRAVEL_AND_LOCAL', 2.34)\n",
      "('SHOPPING', 2.26)\n",
      "('BOOKS_AND_REFERENCE', 2.15)\n",
      "('DATING', 1.89)\n",
      "('VIDEO_PLAYERS', 1.8)\n",
      "('MAPS_AND_NAVIGATION', 1.35)\n",
      "('EDUCATION', 1.3)\n",
      "('FOOD_AND_DRINK', 1.21)\n",
      "('ENTERTAINMENT', 1.13)\n",
      "('AUTO_AND_VEHICLES', 0.94)\n",
      "('LIBRARIES_AND_DEMO', 0.88)\n",
      "('HOUSE_AND_HOME', 0.81)\n",
      "('WEATHER', 0.79)\n",
      "('EVENTS', 0.73)\n",
      "('ART_AND_DESIGN', 0.69)\n",
      "('PARENTING', 0.66)\n",
      "('BEAUTY', 0.61)\n",
      "('COMICS', 0.58)\n"
     ]
    }
   ],
   "source": [
    "ios_genre_dictionarie = {}\n",
    "\n",
    "for genre in ios_dataset_free:\n",
    "    if genre[1] in ios_genre_dictionarie:\n",
    "        ios_genre_dictionarie[genre[1]] += 1\n",
    "    else:\n",
    "        ios_genre_dictionarie[genre[1]] = 1\n",
    "\n",
    "ios_dataset_free_size = len(ios_dataset_free)\n",
    "for key in ios_genre_dictionarie:\n",
    "    ios_genre_dictionarie[key] = round((ios_genre_dictionarie[key]/ios_dataset_free_size)*100, 2) \n",
    "\n",
    "print(\"Percentage of apps in the store per genre in PlayStore:\\n\")\n",
    "sorted_by_value = sorted(ios_genre_dictionarie.items(), key=lambda kv: kv[1], reverse = True)\n",
    "\n",
    "for item in sorted_by_value:\n",
    "    print(item)"
   ]
  },
  {
   "cell_type": "markdown",
   "metadata": {},
   "source": [
    "It's clear that on Apple AppStore the apps designed for fun are the majority, with 'Games' representing more 58% of the apps. While Education comes in third position and it is the better positioning category that doesn't aim recreation, and representing only 3,72% of the apps on the store. \n",
    "\n",
    "However in GooglePlayStore the situation is different, this store shows a more balanced distribution of the apps per genre, and it seems that a good number of apps are designed for practical purposes(business, productivity, lifestyle and etc). \n",
    "Also, it is noticeable that content for kids has very relevant numbers, but it should be considered that within this content for children a good amount are games."
   ]
  },
  {
   "cell_type": "markdown",
   "metadata": {},
   "source": [
    " ### Most Popular Apps by Genre"
   ]
  },
  {
   "cell_type": "markdown",
   "metadata": {},
   "source": [
    "Criteria: The way to calculate the popularity of our interest is to count how many apps have been downloaded/Installed."
   ]
  },
  {
   "cell_type": "markdown",
   "metadata": {},
   "source": [
    "**AppStore**"
   ]
  },
  {
   "cell_type": "markdown",
   "metadata": {},
   "source": [
    "The AppStore dataset doesn't have a number of downloads of a specific app, so it will be used the number of ratings that those apps have."
   ]
  },
  {
   "cell_type": "code",
   "execution_count": 14,
   "metadata": {},
   "outputs": [
    {
     "name": "stdout",
     "output_type": "stream",
     "text": [
      "Waze - GPS Navigation, Maps & Real-time Traffic : 345046\n",
      "Geocaching® : 12811\n",
      "ImmobilienScout24: Real Estate Search in Germany : 187\n",
      "Railway Route Search : 5\n",
      "CoPilot GPS – Car Navigation & Offline Maps : 3582\n",
      "Google Maps - Navigation & Transit : 154911\n"
     ]
    }
   ],
   "source": [
    "for row in apple_dataset_free:\n",
    "    if row[12] == 'Navigation':\n",
    "        print(row[2], ':', row[6]) "
   ]
  },
  {
   "cell_type": "code",
   "execution_count": 15,
   "metadata": {},
   "outputs": [
    {
     "name": "stdout",
     "output_type": "stream",
     "text": [
      "10   Facebook : 2974676\n",
      "17   LinkedIn : 71856\n",
      "40   Skype for iPhone : 373519\n",
      "41   Tumblr : 334293\n",
      "42   Match™ - #1 Dating App. : 60659\n",
      "56   WhatsApp Messenger : 287589\n",
      "64   TextNow - Unlimited Text + Calls : 164963\n",
      "71   Grindr - Gay and same sex guys chat, meet and date : 23201\n",
      "106   imo video calls and chat : 18841\n",
      "129   Ameba : 269\n",
      "130   Weibo : 7265\n",
      "131   Badoo - Meet New People, Chat, Socialize. : 34428\n",
      "137   Kik : 260965\n",
      "143   Qzone : 1649\n",
      "160   Fake-A-Location Free ™ : 354\n",
      "163   Tango - Free Video Call, Voice and Chat : 75412\n",
      "164   MeetMe - Chat and Meet New People : 97072\n",
      "167   SimSimi : 23530\n",
      "184   Viber Messenger – Text & Call : 164249\n",
      "186   Find My Family, Friends & iPhone - Life360 Locator : 43877\n",
      "188   Weibo HD : 16772\n",
      "198   POF - Best Dating App for Conversations : 52642\n",
      "206   GroupMe : 28260\n",
      "229   Lobi : 36\n",
      "246   WeChat : 34584\n",
      "271   ooVoo – Free Video Call, Text and Voice : 177501\n",
      "273   Pinterest : 1061624\n",
      "278   Qzone HD : 458\n",
      "298   Skype for iPad : 60163\n"
     ]
    }
   ],
   "source": [
    "cnt = 0\n",
    "for row in apple_dataset_free:\n",
    "    cnt +=1\n",
    "    if row[12] == 'Social Networking':\n",
    "        print(cnt, \" \", row[2], ':', row[6])\n",
    "    if cnt>300 :\n",
    "        break"
   ]
  },
  {
   "cell_type": "markdown",
   "metadata": {},
   "source": [
    "As we can see above, in genres like Navigation and Social media, as in others, a few giant apps like GoogleMaps, Facebook, Pinterest, can make a big difference in the popularity analyzes.\n",
    "Most companies that develop english free apps don't have an interest in competing with this giant apps, the idea is to research which genre might be a better field to invest independent of this massive apps. Therefore will be excluded from these analyses the four apps of each genre with the biggest ratings. Although there are some genres that have too few apps, if 4 apps of those are deleted will substantially affect the average, creating inaccurate results. Therefore genres that represent less than 1% of the store will only have the app with most rating deleted."
   ]
  },
  {
   "cell_type": "code",
   "execution_count": 16,
   "metadata": {},
   "outputs": [],
   "source": [
    "#LOCATING MOST RATED APPS\n",
    "\n",
    "#___Creating a list of Genre___\n",
    "apple_genre_list = []\n",
    "for genre in apple_dataset_free:\n",
    "    if genre[12] not in apple_genre_list:\n",
    "        apple_genre_list.append(genre[12])\n",
    "        \n",
    "        \n",
    "#___Initializing Variables___\n",
    "apple_onepercent_list = ['Weather', 'Food & Drink', 'Reference','Business','Book', 'Navigation','Medical','Catalogs']\n",
    "cnt_index = 0\n",
    "cnt_first_apps = 0\n",
    "list_position = 0\n",
    "list_of_index = []\n",
    "list_of_ratings = []\n",
    "list_position = 0\n",
    "\n",
    "\n",
    "\n",
    "#Looping throught genres\n",
    "for genre in apple_genre_list:\n",
    "    cnt_first_apps = 0\n",
    "    cnt_index = 0\n",
    "    \n",
    "    #Looping throught dataset for each genre\n",
    "    for rating in apple_dataset_free:\n",
    "               \n",
    "        if rating[12] == genre:\n",
    "            cnt_first_apps += 1\n",
    "            \n",
    "            #Treating items with one percent\n",
    "            if rating[12] in apple_onepercent_list:\n",
    "                if cnt_first_apps == 1:\n",
    "                    list_of_index.append(cnt_index)\n",
    "                    list_of_ratings.append(int(rating[6]))\n",
    "                else:\n",
    "                    if int(rating[6]) > list_of_ratings[-1]:\n",
    "                        list_of_ratings[-1] = int(rating[6])\n",
    "                        list_of_index[-1] = cnt_index\n",
    "            #Treating items with more than one percent   \n",
    "            else:\n",
    "                if cnt_first_apps < 5:\n",
    "                    list_of_index.append(cnt_index)\n",
    "                    list_of_ratings.append(int(rating[6]))\n",
    "                    \n",
    "                else:\n",
    "                    for i in range(4):\n",
    "                        if list_of_ratings[list_position + i] < int(rating[6]):\n",
    "                            list_of_ratings[list_position + i] = int(rating[6])\n",
    "                            list_of_index[list_position + i] = cnt_index\n",
    "                            break\n",
    "        cnt_index += 1\n",
    "    if genre in apple_onepercent_list:\n",
    "        list_position += 1\n",
    "        \n",
    "    else:\n",
    "        list_position += 4\n",
    "            "
   ]
  },
  {
   "cell_type": "code",
   "execution_count": 17,
   "metadata": {},
   "outputs": [],
   "source": [
    "#DELETING THEN\n",
    "\n",
    "apple_dataset_free_nobigapps = apple_dataset_free.copy()\n",
    "\n",
    "list_of_index.sort(key=int, reverse=True)\n",
    "\n",
    "for n in list_of_index:\n",
    "    del apple_dataset_free_nobigapps[n]\n"
   ]
  },
  {
   "cell_type": "code",
   "execution_count": 18,
   "metadata": {},
   "outputs": [
    {
     "name": "stdout",
     "output_type": "stream",
     "text": [
      "Download average per app in diferent genres in AppStore:\n",
      "\n",
      "('Weather', 37237.96)\n",
      "('Navigation', 34299.2)\n",
      "('Social Networking', 28220.36)\n",
      "('Book', 27685.73)\n",
      "('Reference', 24147.47)\n",
      "('Food & Drink', 22513.04)\n",
      "('Music', 22479.38)\n",
      "('Games', 20422.55)\n",
      "('Shopping', 19315.86)\n",
      "('Productivity', 14083.61)\n",
      "('Sports', 12596.6)\n",
      "('Finance', 10856.57)\n",
      "('Photo & Video', 10802.45)\n",
      "('Entertainment', 10745.11)\n",
      "('News', 9025.61)\n",
      "('Travel', 8009.52)\n",
      "('Utilities', 7918.38)\n",
      "('Health & Fitness', 7420.25)\n",
      "('Lifestyle', 5084.52)\n",
      "('Business', 4565.21)\n",
      "('Education', 3261.76)\n",
      "('Catalogs', 890.33)\n",
      "('Medical', 466.2)\n"
     ]
    }
   ],
   "source": [
    "#MAKING THE ANALYZES:\n",
    "apple_genre_rating_dictionarie = {}\n",
    "sum_per_genre = 0\n",
    "cnt = 0\n",
    "\n",
    "for genre in apple_genre_list:\n",
    "    sum_per_genre = 0 \n",
    "    cnt = 0\n",
    "    \n",
    "    for rating in apple_dataset_free_nobigapps:\n",
    "        \n",
    "        if genre == rating[12]:\n",
    "            sum_per_genre += int(rating[6])\n",
    "            cnt +=1 \n",
    "    \n",
    "    apple_genre_rating_dictionarie[genre] = round(sum_per_genre /cnt, 2)\n",
    "        \n",
    "\n",
    "print(\"Download average per app in diferent genres in AppStore:\\n\")\n",
    "sorted_by_value = sorted(apple_genre_rating_dictionarie.items(), key=lambda kv: kv[1], reverse = True)\n",
    "\n",
    "for item in sorted_by_value:\n",
    "    print(item)\n",
    "    "
   ]
  },
  {
   "cell_type": "markdown",
   "metadata": {},
   "source": [
    "**GooglePlay**"
   ]
  },
  {
   "cell_type": "markdown",
   "metadata": {},
   "source": [
    "Differently from the AppleAppStore dataset, the GooglePlay dataset has a column called 'Install', that shows how many times that has been installed, so there is no need to work with the ratings of the apps. But the same idea that the big apps like Facebook makes a big difference in the analyses, apply for the PlayStore. Therefore, if the genre has more than 1%, the most 4 installed apps will be deleted, otherwise just the most installed."
   ]
  },
  {
   "cell_type": "code",
   "execution_count": 19,
   "metadata": {},
   "outputs": [
    {
     "name": "stdout",
     "output_type": "stream",
     "text": [
      "10000\n"
     ]
    }
   ],
   "source": [
    "#The Install column must be treated:\n",
    "a ='10,000+'\n",
    "print(a[:-1].replace(\",\",\"\"))"
   ]
  },
  {
   "cell_type": "code",
   "execution_count": 20,
   "metadata": {},
   "outputs": [],
   "source": [
    "#LOCATING MOST RATED APPS\n",
    "\n",
    "#___Creating a list of Genre___\n",
    "ios_genre_list = []\n",
    "for genre in ios_dataset_free:\n",
    "    if genre[1] not in ios_genre_list:\n",
    "        ios_genre_list.append(genre[1])\n",
    "        \n",
    "        \n",
    "#___Initializing Variables___\n",
    "ios_onepercent_list = ['AUTO_AND_VEHICLES', 'LIBRARIES_AND_DEMO','HOUSE_AND_HOME','WEATHER','EVENTS','ART_AND_DESIGN','PARENTING','BEAUTY','COMICS']\n",
    "cnt_index = 0\n",
    "cnt_first_apps = 0\n",
    "list_position = 0\n",
    "list_of_index = []\n",
    "list_of_ratings = []\n",
    "list_position = 0\n",
    "\n",
    "\n",
    "\n",
    "#Looping throught genres\n",
    "for genre in ios_genre_list:\n",
    "    cnt_first_apps = 0\n",
    "    cnt_index = 0\n",
    "    \n",
    "    #Looping throught dataset for each genre\n",
    "    for rating in ios_dataset_free:\n",
    "               \n",
    "        if rating[1] == genre:\n",
    "            cnt_first_apps += 1\n",
    "            \n",
    "            #Treating items with one percent\n",
    "            if rating[1] in ios_onepercent_list:\n",
    "                if cnt_first_apps == 1:\n",
    "                    list_of_index.append(cnt_index)\n",
    "                    list_of_ratings.append(int(rating[5][:-1].replace(\",\",\"\")))\n",
    "                else:\n",
    "                    if int(rating[5][:-1].replace(\",\",\"\")) > list_of_ratings[-1]:\n",
    "                        list_of_ratings[-1] = int(rating[5][:-1].replace(\",\",\"\"))\n",
    "                        list_of_index[-1] = cnt_index\n",
    "            #Treating items with more than one percent   \n",
    "            else:\n",
    "                if cnt_first_apps < 5:\n",
    "                    list_of_index.append(cnt_index)\n",
    "                    list_of_ratings.append(int(rating[5][:-1].replace(\",\",\"\")))\n",
    "                    \n",
    "                else:\n",
    "                    for i in range(4):\n",
    "                        if list_of_ratings[list_position + i] < int(rating[5][:-1].replace(\",\",\"\")):\n",
    "                            list_of_ratings[list_position + i] = int(rating[5][:-1].replace(\",\",\"\"))\n",
    "                            list_of_index[list_position + i] = cnt_index\n",
    "                            break\n",
    "        cnt_index += 1\n",
    "    if genre in ios_onepercent_list:\n",
    "        list_position += 1\n",
    "        \n",
    "    else:\n",
    "        list_position += 4\n",
    "            \n",
    "            "
   ]
  },
  {
   "cell_type": "code",
   "execution_count": 21,
   "metadata": {},
   "outputs": [],
   "source": [
    "#DELETING THEN\n",
    "\n",
    "ios_dataset_free_nobigapps = ios_dataset_free.copy()\n",
    "\n",
    "list_of_index.sort(key=int, reverse=True)\n",
    "\n",
    "for n in list_of_index:\n",
    "    del ios_dataset_free_nobigapps[n]\n"
   ]
  },
  {
   "cell_type": "code",
   "execution_count": 22,
   "metadata": {
    "scrolled": true
   },
   "outputs": [
    {
     "name": "stdout",
     "output_type": "stream",
     "text": [
      "Download average per app in diferent genres in PlayStore:\n",
      "\n",
      "('COMMUNICATION', 25219875.42)\n",
      "('PHOTOGRAPHY', 13086936.53)\n",
      "('GAME', 12932885.11)\n",
      "('PRODUCTIVITY', 9760917.85)\n",
      "('SOCIAL', 8847342.64)\n",
      "('VIDEO_PLAYERS', 8656129.74)\n",
      "('ENTERTAINMENT', 8632553.19)\n",
      "('TOOLS', 7508217.93)\n",
      "('SHOPPING', 5177113.01)\n",
      "('WEATHER', 4622201.79)\n",
      "('PERSONALIZATION', 3905716.15)\n",
      "('TRAVEL_AND_LOCAL', 3710015.59)\n",
      "('SPORTS', 2808260.65)\n",
      "('FAMILY', 2490505.61)\n",
      "('HEALTH_AND_FITNESS', 2319840.5)\n",
      "('EDUCATION', 2031018.52)\n",
      "('MAPS_AND_NAVIGATION', 1741639.65)\n",
      "('FOOD_AND_DRINK', 1591273.77)\n",
      "('NEWS_AND_MAGAZINES', 1506380.81)\n",
      "('BOOKS_AND_REFERENCE', 1460869.56)\n",
      "('HOUSE_AND_HOME', 1240758.86)\n",
      "('ART_AND_DESIGN', 1090188.14)\n",
      "('LIFESTYLE', 1055472.43)\n",
      "('FINANCE', 993489.34)\n",
      "('BUSINESS', 967241.47)\n",
      "('COMICS', 679819.39)\n",
      "('DATING', 631507.91)\n",
      "('LIBRARIES_AND_DEMO', 550582.8)\n",
      "('AUTO_AND_VEHICLES', 537250.76)\n",
      "('PARENTING', 374482.32)\n",
      "('BEAUTY', 330712.5)\n",
      "('EVENTS', 176986.45)\n",
      "('MEDICAL', 83489.72)\n"
     ]
    }
   ],
   "source": [
    "#MAKING THE ANALYZES:\n",
    "ios_genre_rating_dictionarie = {}\n",
    "sum_per_genre = 0\n",
    "cnt = 0\n",
    "\n",
    "for genre in ios_genre_list:\n",
    "    sum_per_genre = 0 \n",
    "    cnt = 0\n",
    "    \n",
    "    for rating in ios_dataset_free_nobigapps:\n",
    "        \n",
    "        if genre == rating[1]:\n",
    "            sum_per_genre += int(rating[5][:-1].replace(\",\",\"\"))\n",
    "            cnt +=1 \n",
    "    \n",
    "    ios_genre_rating_dictionarie[genre] = round(sum_per_genre /cnt, 2)\n",
    "        \n",
    "\n",
    "print(\"Download average per app in diferent genres in PlayStore:\\n\")\n",
    "sorted_by_value = sorted(ios_genre_rating_dictionarie.items(), key=lambda kv: kv[1], reverse = True)\n",
    "\n",
    "for item in sorted_by_value:\n",
    "    print(item)\n",
    "    "
   ]
  },
  {
   "cell_type": "markdown",
   "metadata": {},
   "source": [
    "### <img src=\"https://image.flaticon.com/icons/svg/2/2291.svg\" alt=\"Drawing\" style=\"width:30px; float:left\"/>             &ensp; Crossing Data"
   ]
  },
  {
   "cell_type": "markdown",
   "metadata": {},
   "source": [
    "This study is looking for an app genre that has low market competition and high numbers of downloads. With that said the study must point to a gender that attends both stores within those parameters. "
   ]
  },
  {
   "cell_type": "markdown",
   "metadata": {},
   "source": [
    "**Adopted Criteria**:\n",
    "* Every genre with less than 15.000 reviews on average per app in apple app store data_set will be considered not popular.\n",
    "* Every genre with less than 2.000.000 downloads on average per app in play store data_set will be considered not popular.\n",
    "* Every genre with more than 3% of apps in both stores will be considered with high competition."
   ]
  },
  {
   "cell_type": "markdown",
   "metadata": {},
   "source": [
    "**Isolating genres with stipulated criteria:**"
   ]
  },
  {
   "cell_type": "code",
   "execution_count": 23,
   "metadata": {},
   "outputs": [
    {
     "name": "stdout",
     "output_type": "stream",
     "text": [
      "['EDUCATION', 'ENTERTAINMENT', 'SOCIAL', 'SHOPPING', 'TRAVEL_AND_LOCAL', 'WEATHER', 'VIDEO_PLAYERS']\n",
      "['Weather', 'Shopping', 'Reference', 'Music', 'Food & Drink', 'Book', 'Navigation']\n"
     ]
    }
   ],
   "source": [
    "#PlayStore\n",
    "ios_genre_popular_and_low_competition = []\n",
    "\n",
    "for genre in ios_genre_list:\n",
    "    if ios_genre_rating_dictionarie[genre] > 2000000 and ios_genre_dictionarie[genre] < 3:\n",
    "        ios_genre_popular_and_low_competition.append(genre)\n",
    "\n",
    "#AppStore\n",
    "apple_genre_popular_and_low_competition = []\n",
    "\n",
    "for genre in apple_genre_list:\n",
    "    if apple_genre_rating_dictionarie[genre] > 15000 and apple_genre_dictionarie[genre] < 3:\n",
    "        apple_genre_popular_and_low_competition.append(genre)\n",
    "        \n",
    "print(ios_genre_popular_and_low_competition)\n",
    "print(apple_genre_popular_and_low_competition)"
   ]
  },
  {
   "cell_type": "markdown",
   "metadata": {},
   "source": [
    "The genres that attend all the criteria in both stores are: **Weather** and **Shopping**."
   ]
  },
  {
   "cell_type": "markdown",
   "metadata": {},
   "source": [
    "-----"
   ]
  },
  {
   "cell_type": "markdown",
   "metadata": {},
   "source": [
    "## <img src=\"https://png.pngtree.com/svg/20160526/conclusion_717735.png\" alt=\"Drawing\" style=\"width:30px; float:left\"/>  &ensp;     Conclusion"
   ]
  },
  {
   "cell_type": "markdown",
   "metadata": {},
   "source": [
    "A company that wants to develop a free english app for AppleAppStore and GooglePlayStore and choose not to compete with large enterprise applications will probably have more success developing or a Weather or a Shopping application, since they are the two genres that have low competition and high interest of download in both stores."
   ]
  }
 ],
 "metadata": {
  "kernelspec": {
   "display_name": "Python 3",
   "language": "python",
   "name": "python3"
  },
  "language_info": {
   "codemirror_mode": {
    "name": "ipython",
    "version": 3
   },
   "file_extension": ".py",
   "mimetype": "text/x-python",
   "name": "python",
   "nbconvert_exporter": "python",
   "pygments_lexer": "ipython3",
   "version": "3.7.0"
  }
 },
 "nbformat": 4,
 "nbformat_minor": 2
}
